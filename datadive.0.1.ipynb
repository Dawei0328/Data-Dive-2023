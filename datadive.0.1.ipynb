{
 "cells": [
  {
   "cell_type": "code",
   "execution_count": 1,
   "id": "ba605449",
   "metadata": {},
   "outputs": [],
   "source": [
    "import pandas as pd\n",
    "import matplotlib.pyplot as plt\n",
    "import numpy as np\n",
    "\n",
    "import warnings\n",
    "warnings.filterwarnings('ignore')\n",
    "\n",
    "pd.set_option('display.max_columns', None)\n",
    "pd.set_option('display.max_rows', None)"
   ]
  },
  {
   "cell_type": "code",
   "execution_count": null,
   "id": "4b87a9be",
   "metadata": {},
   "outputs": [],
   "source": []
  },
  {
   "cell_type": "code",
   "execution_count": 2,
   "id": "c52dbe9d",
   "metadata": {
    "scrolled": true
   },
   "outputs": [],
   "source": [
    "# error_bad_lines=False #加入参数\n",
    "df_2018 = pd.read_csv(\"Hospital_Inpatient_Discharges__SPARCS_De-Identified___2018.csv\")\n",
    "df_2019 = pd.read_csv(\"Hospital_Inpatient_Discharges__SPARCS_De-Identified___2019.csv\")\n",
    "df_2020 = pd.read_csv(\"Hospital_Inpatient_Discharges__SPARCS_De-Identified___2020.csv\")\n",
    "df_2021 = pd.read_csv(\"Hospital_Inpatient_Discharges__SPARCS_De-Identified___2021.csv\")\n",
    "\n",
    "# 将四个数据框合并为一个\n",
    "frames = [df_2018, df_2019, df_2020, df_2021]\n",
    "df = pd.concat(frames)"
   ]
  },
  {
   "cell_type": "code",
   "execution_count": 3,
   "id": "b1fd8841",
   "metadata": {},
   "outputs": [
    {
     "data": {
      "text/plain": [
       "8846265"
      ]
     },
     "execution_count": 3,
     "metadata": {},
     "output_type": "execute_result"
    }
   ],
   "source": [
    "len(df)"
   ]
  },
  {
   "cell_type": "code",
   "execution_count": 4,
   "id": "88213511",
   "metadata": {
    "scrolled": true
   },
   "outputs": [],
   "source": [
    "df_ = df[df['APR MDC Description'] != \n",
    "         'NEWBORNS AND OTHER NEONATES WITH CONDITIONS ORIGINATING IN THE PERINATAL PERIOD']"
   ]
  },
  {
   "cell_type": "code",
   "execution_count": 5,
   "id": "d777798c",
   "metadata": {},
   "outputs": [],
   "source": [
    "df_1 = df_[df_['APR MDC Description'] != \n",
    "         'PREGNANCY, CHILDBIRTH AND THE PUERPERIUM']"
   ]
  },
  {
   "cell_type": "code",
   "execution_count": 6,
   "id": "6aabb294",
   "metadata": {},
   "outputs": [
    {
     "data": {
      "text/plain": [
       "7079048"
      ]
     },
     "execution_count": 6,
     "metadata": {},
     "output_type": "execute_result"
    }
   ],
   "source": [
    "len(df_1)"
   ]
  },
  {
   "cell_type": "code",
   "execution_count": 7,
   "id": "ba604845",
   "metadata": {},
   "outputs": [
    {
     "data": {
      "text/plain": [
       "DISEASES AND DISORDERS OF THE CIRCULATORY SYSTEM                                            1102440\n",
       "DISEASES AND DISORDERS OF THE RESPIRATORY SYSTEM                                             799045\n",
       "DISEASES AND DISORDERS OF THE MUSCULOSKELETAL SYSTEM AND CONNECTIVE TISSUE                   747865\n",
       "DISEASES AND DISORDERS OF THE DIGESTIVE SYSTEM                                               681588\n",
       "INFECTIOUS AND PARASITIC DISEASES (SYSTEMIC OR UNSPECIFIED SITES)                            626438\n",
       "DISEASES AND DISORDERS OF THE NERVOUS SYSTEM                                                 583952\n",
       "MENTAL DISEASES AND DISORDERS                                                                411599\n",
       "DISEASES AND DISORDERS OF THE KIDNEY AND URINARY TRACT                                       381808\n",
       "ENDOCRINE, NUTRITIONAL AND METABOLIC DISEASES AND DISORDERS                                  302834\n",
       "ALCOHOL/DRUG USE AND ALCOHOL/DRUG INDUCED ORGANIC MENTAL DISORDERS                           277258\n",
       "DISEASES AND DISORDERS OF THE HEPATOBILIARY SYSTEM AND PANCREAS                              247100\n",
       "DISEASES AND DISORDERS OF THE SKIN, SUBCUTANEOUS TISSUE AND BREAST                           197537\n",
       "DISEASES AND DISORDERS OF THE BLOOD AND BLOOD FORMING ORGANS AND IMMUNOLOGICAL DISORDERS     122916\n",
       "DISEASES AND DISORDERS OF THE EAR, NOSE, MOUTH AND THROAT                                    111025\n",
       "FACTORS INFLUENCING HEALTH STATUS AND OTHER CONTACTS WITH HEALTH SERVICES                    110120\n",
       "INJURIES, POISONINGS AND TOXIC EFFECTS OF DRUGS                                              109273\n",
       "MYELOPROLIFERATIVE DISEASES AND DISORDERS, AND POORLY DIFFERENTIATED NEOPLASM                 85792\n",
       "DISEASES AND DISORDERS OF THE FEMALE REPRODUCTIVE SYSTEM                                      76036\n",
       "DISEASES AND DISORDERS OF THE MALE REPRODUCTIVE SYSTEM                                        35760\n",
       "MULTIPLE SIGNIFICANT TRAUMA                                                                   23274\n",
       "HUMAN IMMUNODEFICIENCY VIRUS INFECTIONS                                                       20163\n",
       "DISEASES AND DISORDERS OF THE EYE                                                             13570\n",
       "BURNS                                                                                          7842\n",
       "PRE MDC                                                                                        3797\n",
       "Name: APR MDC Description, dtype: int64"
      ]
     },
     "execution_count": 7,
     "metadata": {},
     "output_type": "execute_result"
    }
   ],
   "source": [
    "df_1['APR MDC Description'].value_counts()"
   ]
  },
  {
   "cell_type": "code",
   "execution_count": 8,
   "id": "a4805086",
   "metadata": {},
   "outputs": [],
   "source": [
    "list_mental_issue = ['DISEASES AND DISORDERS OF THE NERVOUS SYSTEM', 'MENTAL DISEASES AND DISORDERS', 'ALCOHOL/DRUG USE AND ALCOHOL/DRUG INDUCED ORGANIC MENTAL DISORDERS']"
   ]
  },
  {
   "cell_type": "code",
   "execution_count": 9,
   "id": "e9a38e7d",
   "metadata": {},
   "outputs": [],
   "source": [
    "df_mental = df_1[df_1['APR MDC Description'].isin(list_mental_issue)]"
   ]
  },
  {
   "cell_type": "code",
   "execution_count": 10,
   "id": "f49ed53f",
   "metadata": {},
   "outputs": [
    {
     "data": {
      "text/plain": [
       "1272809"
      ]
     },
     "execution_count": 10,
     "metadata": {},
     "output_type": "execute_result"
    }
   ],
   "source": [
    "len(df_mental)"
   ]
  },
  {
   "cell_type": "code",
   "execution_count": 11,
   "id": "d92e8a51",
   "metadata": {},
   "outputs": [
    {
     "data": {
      "text/html": [
       "<div>\n",
       "<style scoped>\n",
       "    .dataframe tbody tr th:only-of-type {\n",
       "        vertical-align: middle;\n",
       "    }\n",
       "\n",
       "    .dataframe tbody tr th {\n",
       "        vertical-align: top;\n",
       "    }\n",
       "\n",
       "    .dataframe thead th {\n",
       "        text-align: right;\n",
       "    }\n",
       "</style>\n",
       "<table border=\"1\" class=\"dataframe\">\n",
       "  <thead>\n",
       "    <tr style=\"text-align: right;\">\n",
       "      <th></th>\n",
       "      <th>Hospital Service Area</th>\n",
       "      <th>Hospital County</th>\n",
       "      <th>Operating Certificate Number</th>\n",
       "      <th>Permanent Facility Id</th>\n",
       "      <th>Facility Name</th>\n",
       "      <th>Age Group</th>\n",
       "      <th>Zip Code - 3 digits</th>\n",
       "      <th>Gender</th>\n",
       "      <th>Race</th>\n",
       "      <th>Ethnicity</th>\n",
       "      <th>Length of Stay</th>\n",
       "      <th>Type of Admission</th>\n",
       "      <th>Patient Disposition</th>\n",
       "      <th>Discharge Year</th>\n",
       "      <th>CCSR Diagnosis Code</th>\n",
       "      <th>CCSR Diagnosis Description</th>\n",
       "      <th>CCSR Procedure Code</th>\n",
       "      <th>CCSR Procedure Description</th>\n",
       "      <th>APR DRG Code</th>\n",
       "      <th>APR DRG Description</th>\n",
       "      <th>APR MDC Code</th>\n",
       "      <th>APR MDC Description</th>\n",
       "      <th>APR Severity of Illness Code</th>\n",
       "      <th>APR Severity of Illness Description</th>\n",
       "      <th>APR Risk of Mortality</th>\n",
       "      <th>APR Medical Surgical Description</th>\n",
       "      <th>Payment Typology 1</th>\n",
       "      <th>Payment Typology 2</th>\n",
       "      <th>Payment Typology 3</th>\n",
       "      <th>Birth Weight</th>\n",
       "      <th>Emergency Department Indicator</th>\n",
       "      <th>Total Charges</th>\n",
       "      <th>Total Costs</th>\n",
       "    </tr>\n",
       "  </thead>\n",
       "  <tbody>\n",
       "    <tr>\n",
       "      <th>0</th>\n",
       "      <td>Capital/Adirond</td>\n",
       "      <td>Columbia</td>\n",
       "      <td>1001000.0</td>\n",
       "      <td>146.0</td>\n",
       "      <td>Columbia Memorial Hospital</td>\n",
       "      <td>50 to 69</td>\n",
       "      <td>125</td>\n",
       "      <td>F</td>\n",
       "      <td>White</td>\n",
       "      <td>Not Span/Hispanic</td>\n",
       "      <td>2</td>\n",
       "      <td>Elective</td>\n",
       "      <td>Short-term Hospital</td>\n",
       "      <td>2018</td>\n",
       "      <td>CIR020</td>\n",
       "      <td>CEREBRAL INFARCTION</td>\n",
       "      <td>NaN</td>\n",
       "      <td>NaN</td>\n",
       "      <td>45.0</td>\n",
       "      <td>CVA &amp; PRECEREBRAL OCCLUSION W INFARCT</td>\n",
       "      <td>1.0</td>\n",
       "      <td>DISEASES AND DISORDERS OF THE NERVOUS SYSTEM</td>\n",
       "      <td>3.0</td>\n",
       "      <td>Major</td>\n",
       "      <td>Major</td>\n",
       "      <td>Medical</td>\n",
       "      <td>Managed Care, Unspecified</td>\n",
       "      <td>Self-Pay</td>\n",
       "      <td>NaN</td>\n",
       "      <td>NaN</td>\n",
       "      <td>True</td>\n",
       "      <td>17,591.41</td>\n",
       "      <td>3,570.06</td>\n",
       "    </tr>\n",
       "    <tr>\n",
       "      <th>2</th>\n",
       "      <td>New York City</td>\n",
       "      <td>Manhattan</td>\n",
       "      <td>7002009.0</td>\n",
       "      <td>1445.0</td>\n",
       "      <td>Harlem Hospital Center</td>\n",
       "      <td>50 to 69</td>\n",
       "      <td>100</td>\n",
       "      <td>F</td>\n",
       "      <td>Black/African American</td>\n",
       "      <td>Not Span/Hispanic</td>\n",
       "      <td>4</td>\n",
       "      <td>Emergency</td>\n",
       "      <td>Home or Self Care</td>\n",
       "      <td>2018</td>\n",
       "      <td>MBD003</td>\n",
       "      <td>BIPOLAR AND RELATED DISORDERS</td>\n",
       "      <td>MHT001</td>\n",
       "      <td>PHARMACOTHERAPY FOR MENTAL HEALTH (EXCLUDING S...</td>\n",
       "      <td>753.0</td>\n",
       "      <td>BIPOLAR DISORDERS</td>\n",
       "      <td>19.0</td>\n",
       "      <td>MENTAL DISEASES AND DISORDERS</td>\n",
       "      <td>2.0</td>\n",
       "      <td>Moderate</td>\n",
       "      <td>Minor</td>\n",
       "      <td>Medical</td>\n",
       "      <td>Medicaid</td>\n",
       "      <td>NaN</td>\n",
       "      <td>NaN</td>\n",
       "      <td>NaN</td>\n",
       "      <td>False</td>\n",
       "      <td>5,600</td>\n",
       "      <td>4,161.53</td>\n",
       "    </tr>\n",
       "    <tr>\n",
       "      <th>10</th>\n",
       "      <td>New York City</td>\n",
       "      <td>Kings</td>\n",
       "      <td>7001016.0</td>\n",
       "      <td>1301.0</td>\n",
       "      <td>Kings County Hospital Center</td>\n",
       "      <td>30 to 49</td>\n",
       "      <td>112</td>\n",
       "      <td>M</td>\n",
       "      <td>Black/African American</td>\n",
       "      <td>Not Span/Hispanic</td>\n",
       "      <td>2</td>\n",
       "      <td>Emergency</td>\n",
       "      <td>Home or Self Care</td>\n",
       "      <td>2018</td>\n",
       "      <td>NVS009</td>\n",
       "      <td>EPILEPSY; CONVULSIONS</td>\n",
       "      <td>IMG008</td>\n",
       "      <td>ULTRASONOGRAPHY</td>\n",
       "      <td>53.0</td>\n",
       "      <td>SEIZURE</td>\n",
       "      <td>1.0</td>\n",
       "      <td>DISEASES AND DISORDERS OF THE NERVOUS SYSTEM</td>\n",
       "      <td>2.0</td>\n",
       "      <td>Moderate</td>\n",
       "      <td>Minor</td>\n",
       "      <td>Medical</td>\n",
       "      <td>Medicaid</td>\n",
       "      <td>Medicaid</td>\n",
       "      <td>NaN</td>\n",
       "      <td>NaN</td>\n",
       "      <td>True</td>\n",
       "      <td>20,225.67</td>\n",
       "      <td>14,367.53</td>\n",
       "    </tr>\n",
       "    <tr>\n",
       "      <th>17</th>\n",
       "      <td>Western NY</td>\n",
       "      <td>Erie</td>\n",
       "      <td>1401014.0</td>\n",
       "      <td>207.0</td>\n",
       "      <td>Buffalo General Medical Center</td>\n",
       "      <td>70 or Older</td>\n",
       "      <td>141</td>\n",
       "      <td>F</td>\n",
       "      <td>White</td>\n",
       "      <td>Not Span/Hispanic</td>\n",
       "      <td>3</td>\n",
       "      <td>Emergency</td>\n",
       "      <td>Expired</td>\n",
       "      <td>2018</td>\n",
       "      <td>CIR021</td>\n",
       "      <td>ACUTE HEMORRHAGIC CEREBROVASCULAR DISEASE</td>\n",
       "      <td>NaN</td>\n",
       "      <td>NaN</td>\n",
       "      <td>44.0</td>\n",
       "      <td>INTRACRANIAL HEMORRHAGE</td>\n",
       "      <td>1.0</td>\n",
       "      <td>DISEASES AND DISORDERS OF THE NERVOUS SYSTEM</td>\n",
       "      <td>4.0</td>\n",
       "      <td>Extreme</td>\n",
       "      <td>Extreme</td>\n",
       "      <td>Medical</td>\n",
       "      <td>Medicare</td>\n",
       "      <td>Self-Pay</td>\n",
       "      <td>NaN</td>\n",
       "      <td>NaN</td>\n",
       "      <td>True</td>\n",
       "      <td>10,060.84</td>\n",
       "      <td>4,574.2</td>\n",
       "    </tr>\n",
       "    <tr>\n",
       "      <th>32</th>\n",
       "      <td>Hudson Valley</td>\n",
       "      <td>Westchester</td>\n",
       "      <td>5907001.0</td>\n",
       "      <td>1099.0</td>\n",
       "      <td>SJRH - Park Care Pavilion</td>\n",
       "      <td>50 to 69</td>\n",
       "      <td>107</td>\n",
       "      <td>F</td>\n",
       "      <td>Black/African American</td>\n",
       "      <td>Not Span/Hispanic</td>\n",
       "      <td>3</td>\n",
       "      <td>Emergency</td>\n",
       "      <td>Another Type Not Listed</td>\n",
       "      <td>2018</td>\n",
       "      <td>MBD017</td>\n",
       "      <td>ALCOHOL-RELATED DISORDERS</td>\n",
       "      <td>SUD001</td>\n",
       "      <td>SUBSTANCE USE DETOXIFICATION</td>\n",
       "      <td>774.0</td>\n",
       "      <td>COCAINE ABUSE &amp; DEPENDENCE</td>\n",
       "      <td>20.0</td>\n",
       "      <td>ALCOHOL/DRUG USE AND ALCOHOL/DRUG INDUCED ORGA...</td>\n",
       "      <td>3.0</td>\n",
       "      <td>Major</td>\n",
       "      <td>Minor</td>\n",
       "      <td>Medical</td>\n",
       "      <td>Medicaid</td>\n",
       "      <td>NaN</td>\n",
       "      <td>NaN</td>\n",
       "      <td>NaN</td>\n",
       "      <td>False</td>\n",
       "      <td>6,163.4</td>\n",
       "      <td>2,051.6</td>\n",
       "    </tr>\n",
       "  </tbody>\n",
       "</table>\n",
       "</div>"
      ],
      "text/plain": [
       "   Hospital Service Area Hospital County  Operating Certificate Number  \\\n",
       "0        Capital/Adirond        Columbia                     1001000.0   \n",
       "2          New York City       Manhattan                     7002009.0   \n",
       "10         New York City           Kings                     7001016.0   \n",
       "17            Western NY            Erie                     1401014.0   \n",
       "32         Hudson Valley     Westchester                     5907001.0   \n",
       "\n",
       "    Permanent Facility Id                   Facility Name    Age Group  \\\n",
       "0                   146.0      Columbia Memorial Hospital     50 to 69   \n",
       "2                  1445.0          Harlem Hospital Center     50 to 69   \n",
       "10                 1301.0    Kings County Hospital Center     30 to 49   \n",
       "17                  207.0  Buffalo General Medical Center  70 or Older   \n",
       "32                 1099.0       SJRH - Park Care Pavilion     50 to 69   \n",
       "\n",
       "   Zip Code - 3 digits Gender                    Race          Ethnicity  \\\n",
       "0                  125      F                   White  Not Span/Hispanic   \n",
       "2                  100      F  Black/African American  Not Span/Hispanic   \n",
       "10                 112      M  Black/African American  Not Span/Hispanic   \n",
       "17                 141      F                   White  Not Span/Hispanic   \n",
       "32                 107      F  Black/African American  Not Span/Hispanic   \n",
       "\n",
       "   Length of Stay Type of Admission      Patient Disposition  Discharge Year  \\\n",
       "0               2          Elective      Short-term Hospital            2018   \n",
       "2               4         Emergency        Home or Self Care            2018   \n",
       "10              2         Emergency        Home or Self Care            2018   \n",
       "17              3         Emergency                  Expired            2018   \n",
       "32              3         Emergency  Another Type Not Listed            2018   \n",
       "\n",
       "   CCSR Diagnosis Code                 CCSR Diagnosis Description  \\\n",
       "0               CIR020                        CEREBRAL INFARCTION   \n",
       "2               MBD003              BIPOLAR AND RELATED DISORDERS   \n",
       "10              NVS009                      EPILEPSY; CONVULSIONS   \n",
       "17              CIR021  ACUTE HEMORRHAGIC CEREBROVASCULAR DISEASE   \n",
       "32              MBD017                  ALCOHOL-RELATED DISORDERS   \n",
       "\n",
       "   CCSR Procedure Code                         CCSR Procedure Description  \\\n",
       "0                  NaN                                                NaN   \n",
       "2               MHT001  PHARMACOTHERAPY FOR MENTAL HEALTH (EXCLUDING S...   \n",
       "10              IMG008                                    ULTRASONOGRAPHY   \n",
       "17                 NaN                                                NaN   \n",
       "32              SUD001                       SUBSTANCE USE DETOXIFICATION   \n",
       "\n",
       "    APR DRG Code                    APR DRG Description  APR MDC Code  \\\n",
       "0           45.0  CVA & PRECEREBRAL OCCLUSION W INFARCT           1.0   \n",
       "2          753.0                      BIPOLAR DISORDERS          19.0   \n",
       "10          53.0                                SEIZURE           1.0   \n",
       "17          44.0                INTRACRANIAL HEMORRHAGE           1.0   \n",
       "32         774.0             COCAINE ABUSE & DEPENDENCE          20.0   \n",
       "\n",
       "                                  APR MDC Description  \\\n",
       "0        DISEASES AND DISORDERS OF THE NERVOUS SYSTEM   \n",
       "2                       MENTAL DISEASES AND DISORDERS   \n",
       "10       DISEASES AND DISORDERS OF THE NERVOUS SYSTEM   \n",
       "17       DISEASES AND DISORDERS OF THE NERVOUS SYSTEM   \n",
       "32  ALCOHOL/DRUG USE AND ALCOHOL/DRUG INDUCED ORGA...   \n",
       "\n",
       "    APR Severity of Illness Code APR Severity of Illness Description  \\\n",
       "0                            3.0                               Major   \n",
       "2                            2.0                            Moderate   \n",
       "10                           2.0                            Moderate   \n",
       "17                           4.0                             Extreme   \n",
       "32                           3.0                               Major   \n",
       "\n",
       "   APR Risk of Mortality APR Medical Surgical Description  \\\n",
       "0                  Major                          Medical   \n",
       "2                  Minor                          Medical   \n",
       "10                 Minor                          Medical   \n",
       "17               Extreme                          Medical   \n",
       "32                 Minor                          Medical   \n",
       "\n",
       "           Payment Typology 1 Payment Typology 2 Payment Typology 3  \\\n",
       "0   Managed Care, Unspecified           Self-Pay                NaN   \n",
       "2                    Medicaid                NaN                NaN   \n",
       "10                   Medicaid           Medicaid                NaN   \n",
       "17                   Medicare           Self-Pay                NaN   \n",
       "32                   Medicaid                NaN                NaN   \n",
       "\n",
       "   Birth Weight Emergency Department Indicator Total Charges Total Costs  \n",
       "0           NaN                           True     17,591.41    3,570.06  \n",
       "2           NaN                          False         5,600    4,161.53  \n",
       "10          NaN                           True     20,225.67   14,367.53  \n",
       "17          NaN                           True     10,060.84     4,574.2  \n",
       "32          NaN                          False       6,163.4     2,051.6  "
      ]
     },
     "execution_count": 11,
     "metadata": {},
     "output_type": "execute_result"
    }
   ],
   "source": [
    "df_mental.head()"
   ]
  },
  {
   "cell_type": "code",
   "execution_count": 15,
   "id": "a998397e",
   "metadata": {},
   "outputs": [
    {
     "data": {
      "text/plain": [
       "array(['125', '100', '112', '141', '107', '120', 'OOS', '104', '108',\n",
       "       '126', '147', '145', '103', '117', '113', '114', '142', '115',\n",
       "       '124', '143', '106', '110', '105', '116', '121', '133', '134', nan,\n",
       "       '136', '131', '109', '123', '119', '144', '139', '137', '140',\n",
       "       '146', '128', '130', '122', '118', '132', '148', '101', '127',\n",
       "       '129', '111', '138', '149', '135'], dtype=object)"
      ]
     },
     "execution_count": 15,
     "metadata": {},
     "output_type": "execute_result"
    }
   ],
   "source": [
    "df_mental['Zip Code - 3 digits'].unique()"
   ]
  },
  {
   "cell_type": "code",
   "execution_count": 14,
   "id": "5efa3bf7",
   "metadata": {},
   "outputs": [
    {
     "ename": "ValueError",
     "evalue": "invalid literal for int() with base 10: 'OOS'",
     "output_type": "error",
     "traceback": [
      "\u001b[0;31m---------------------------------------------------------------------------\u001b[0m",
      "\u001b[0;31mValueError\u001b[0m                                Traceback (most recent call last)",
      "Input \u001b[0;32mIn [14]\u001b[0m, in \u001b[0;36m<cell line: 1>\u001b[0;34m()\u001b[0m\n\u001b[0;32m----> 1\u001b[0m df_mental[\u001b[38;5;124m'\u001b[39m\u001b[38;5;124mZip Code - 3 digits\u001b[39m\u001b[38;5;124m'\u001b[39m] \u001b[38;5;241m=\u001b[39m \u001b[43mdf_mental\u001b[49m\u001b[43m[\u001b[49m\u001b[38;5;124;43m'\u001b[39;49m\u001b[38;5;124;43mZip Code - 3 digits\u001b[39;49m\u001b[38;5;124;43m'\u001b[39;49m\u001b[43m]\u001b[49m\u001b[38;5;241;43m.\u001b[39;49m\u001b[43mastype\u001b[49m\u001b[43m(\u001b[49m\u001b[38;5;28;43mint\u001b[39;49m\u001b[43m)\u001b[49m\n",
      "File \u001b[0;32m/opt/anaconda3/lib/python3.9/site-packages/pandas/core/generic.py:5912\u001b[0m, in \u001b[0;36mNDFrame.astype\u001b[0;34m(self, dtype, copy, errors)\u001b[0m\n\u001b[1;32m   5905\u001b[0m     results \u001b[38;5;241m=\u001b[39m [\n\u001b[1;32m   5906\u001b[0m         \u001b[38;5;28mself\u001b[39m\u001b[38;5;241m.\u001b[39miloc[:, i]\u001b[38;5;241m.\u001b[39mastype(dtype, copy\u001b[38;5;241m=\u001b[39mcopy)\n\u001b[1;32m   5907\u001b[0m         \u001b[38;5;28;01mfor\u001b[39;00m i \u001b[38;5;129;01min\u001b[39;00m \u001b[38;5;28mrange\u001b[39m(\u001b[38;5;28mlen\u001b[39m(\u001b[38;5;28mself\u001b[39m\u001b[38;5;241m.\u001b[39mcolumns))\n\u001b[1;32m   5908\u001b[0m     ]\n\u001b[1;32m   5910\u001b[0m \u001b[38;5;28;01melse\u001b[39;00m:\n\u001b[1;32m   5911\u001b[0m     \u001b[38;5;66;03m# else, only a single dtype is given\u001b[39;00m\n\u001b[0;32m-> 5912\u001b[0m     new_data \u001b[38;5;241m=\u001b[39m \u001b[38;5;28;43mself\u001b[39;49m\u001b[38;5;241;43m.\u001b[39;49m\u001b[43m_mgr\u001b[49m\u001b[38;5;241;43m.\u001b[39;49m\u001b[43mastype\u001b[49m\u001b[43m(\u001b[49m\u001b[43mdtype\u001b[49m\u001b[38;5;241;43m=\u001b[39;49m\u001b[43mdtype\u001b[49m\u001b[43m,\u001b[49m\u001b[43m \u001b[49m\u001b[43mcopy\u001b[49m\u001b[38;5;241;43m=\u001b[39;49m\u001b[43mcopy\u001b[49m\u001b[43m,\u001b[49m\u001b[43m \u001b[49m\u001b[43merrors\u001b[49m\u001b[38;5;241;43m=\u001b[39;49m\u001b[43merrors\u001b[49m\u001b[43m)\u001b[49m\n\u001b[1;32m   5913\u001b[0m     \u001b[38;5;28;01mreturn\u001b[39;00m \u001b[38;5;28mself\u001b[39m\u001b[38;5;241m.\u001b[39m_constructor(new_data)\u001b[38;5;241m.\u001b[39m__finalize__(\u001b[38;5;28mself\u001b[39m, method\u001b[38;5;241m=\u001b[39m\u001b[38;5;124m\"\u001b[39m\u001b[38;5;124mastype\u001b[39m\u001b[38;5;124m\"\u001b[39m)\n\u001b[1;32m   5915\u001b[0m \u001b[38;5;66;03m# GH 33113: handle empty frame or series\u001b[39;00m\n",
      "File \u001b[0;32m/opt/anaconda3/lib/python3.9/site-packages/pandas/core/internals/managers.py:419\u001b[0m, in \u001b[0;36mBaseBlockManager.astype\u001b[0;34m(self, dtype, copy, errors)\u001b[0m\n\u001b[1;32m    418\u001b[0m \u001b[38;5;28;01mdef\u001b[39;00m \u001b[38;5;21mastype\u001b[39m(\u001b[38;5;28mself\u001b[39m: T, dtype, copy: \u001b[38;5;28mbool\u001b[39m \u001b[38;5;241m=\u001b[39m \u001b[38;5;28;01mFalse\u001b[39;00m, errors: \u001b[38;5;28mstr\u001b[39m \u001b[38;5;241m=\u001b[39m \u001b[38;5;124m\"\u001b[39m\u001b[38;5;124mraise\u001b[39m\u001b[38;5;124m\"\u001b[39m) \u001b[38;5;241m-\u001b[39m\u001b[38;5;241m>\u001b[39m T:\n\u001b[0;32m--> 419\u001b[0m     \u001b[38;5;28;01mreturn\u001b[39;00m \u001b[38;5;28;43mself\u001b[39;49m\u001b[38;5;241;43m.\u001b[39;49m\u001b[43mapply\u001b[49m\u001b[43m(\u001b[49m\u001b[38;5;124;43m\"\u001b[39;49m\u001b[38;5;124;43mastype\u001b[39;49m\u001b[38;5;124;43m\"\u001b[39;49m\u001b[43m,\u001b[49m\u001b[43m \u001b[49m\u001b[43mdtype\u001b[49m\u001b[38;5;241;43m=\u001b[39;49m\u001b[43mdtype\u001b[49m\u001b[43m,\u001b[49m\u001b[43m \u001b[49m\u001b[43mcopy\u001b[49m\u001b[38;5;241;43m=\u001b[39;49m\u001b[43mcopy\u001b[49m\u001b[43m,\u001b[49m\u001b[43m \u001b[49m\u001b[43merrors\u001b[49m\u001b[38;5;241;43m=\u001b[39;49m\u001b[43merrors\u001b[49m\u001b[43m)\u001b[49m\n",
      "File \u001b[0;32m/opt/anaconda3/lib/python3.9/site-packages/pandas/core/internals/managers.py:304\u001b[0m, in \u001b[0;36mBaseBlockManager.apply\u001b[0;34m(self, f, align_keys, ignore_failures, **kwargs)\u001b[0m\n\u001b[1;32m    302\u001b[0m         applied \u001b[38;5;241m=\u001b[39m b\u001b[38;5;241m.\u001b[39mapply(f, \u001b[38;5;241m*\u001b[39m\u001b[38;5;241m*\u001b[39mkwargs)\n\u001b[1;32m    303\u001b[0m     \u001b[38;5;28;01melse\u001b[39;00m:\n\u001b[0;32m--> 304\u001b[0m         applied \u001b[38;5;241m=\u001b[39m \u001b[38;5;28;43mgetattr\u001b[39;49m\u001b[43m(\u001b[49m\u001b[43mb\u001b[49m\u001b[43m,\u001b[49m\u001b[43m \u001b[49m\u001b[43mf\u001b[49m\u001b[43m)\u001b[49m\u001b[43m(\u001b[49m\u001b[38;5;241;43m*\u001b[39;49m\u001b[38;5;241;43m*\u001b[39;49m\u001b[43mkwargs\u001b[49m\u001b[43m)\u001b[49m\n\u001b[1;32m    305\u001b[0m \u001b[38;5;28;01mexcept\u001b[39;00m (\u001b[38;5;167;01mTypeError\u001b[39;00m, \u001b[38;5;167;01mNotImplementedError\u001b[39;00m):\n\u001b[1;32m    306\u001b[0m     \u001b[38;5;28;01mif\u001b[39;00m \u001b[38;5;129;01mnot\u001b[39;00m ignore_failures:\n",
      "File \u001b[0;32m/opt/anaconda3/lib/python3.9/site-packages/pandas/core/internals/blocks.py:580\u001b[0m, in \u001b[0;36mBlock.astype\u001b[0;34m(self, dtype, copy, errors)\u001b[0m\n\u001b[1;32m    562\u001b[0m \u001b[38;5;124;03m\"\"\"\u001b[39;00m\n\u001b[1;32m    563\u001b[0m \u001b[38;5;124;03mCoerce to the new dtype.\u001b[39;00m\n\u001b[1;32m    564\u001b[0m \n\u001b[0;32m   (...)\u001b[0m\n\u001b[1;32m    576\u001b[0m \u001b[38;5;124;03mBlock\u001b[39;00m\n\u001b[1;32m    577\u001b[0m \u001b[38;5;124;03m\"\"\"\u001b[39;00m\n\u001b[1;32m    578\u001b[0m values \u001b[38;5;241m=\u001b[39m \u001b[38;5;28mself\u001b[39m\u001b[38;5;241m.\u001b[39mvalues\n\u001b[0;32m--> 580\u001b[0m new_values \u001b[38;5;241m=\u001b[39m \u001b[43mastype_array_safe\u001b[49m\u001b[43m(\u001b[49m\u001b[43mvalues\u001b[49m\u001b[43m,\u001b[49m\u001b[43m \u001b[49m\u001b[43mdtype\u001b[49m\u001b[43m,\u001b[49m\u001b[43m \u001b[49m\u001b[43mcopy\u001b[49m\u001b[38;5;241;43m=\u001b[39;49m\u001b[43mcopy\u001b[49m\u001b[43m,\u001b[49m\u001b[43m \u001b[49m\u001b[43merrors\u001b[49m\u001b[38;5;241;43m=\u001b[39;49m\u001b[43merrors\u001b[49m\u001b[43m)\u001b[49m\n\u001b[1;32m    582\u001b[0m new_values \u001b[38;5;241m=\u001b[39m maybe_coerce_values(new_values)\n\u001b[1;32m    583\u001b[0m newb \u001b[38;5;241m=\u001b[39m \u001b[38;5;28mself\u001b[39m\u001b[38;5;241m.\u001b[39mmake_block(new_values)\n",
      "File \u001b[0;32m/opt/anaconda3/lib/python3.9/site-packages/pandas/core/dtypes/cast.py:1292\u001b[0m, in \u001b[0;36mastype_array_safe\u001b[0;34m(values, dtype, copy, errors)\u001b[0m\n\u001b[1;32m   1289\u001b[0m     dtype \u001b[38;5;241m=\u001b[39m dtype\u001b[38;5;241m.\u001b[39mnumpy_dtype\n\u001b[1;32m   1291\u001b[0m \u001b[38;5;28;01mtry\u001b[39;00m:\n\u001b[0;32m-> 1292\u001b[0m     new_values \u001b[38;5;241m=\u001b[39m \u001b[43mastype_array\u001b[49m\u001b[43m(\u001b[49m\u001b[43mvalues\u001b[49m\u001b[43m,\u001b[49m\u001b[43m \u001b[49m\u001b[43mdtype\u001b[49m\u001b[43m,\u001b[49m\u001b[43m \u001b[49m\u001b[43mcopy\u001b[49m\u001b[38;5;241;43m=\u001b[39;49m\u001b[43mcopy\u001b[49m\u001b[43m)\u001b[49m\n\u001b[1;32m   1293\u001b[0m \u001b[38;5;28;01mexcept\u001b[39;00m (\u001b[38;5;167;01mValueError\u001b[39;00m, \u001b[38;5;167;01mTypeError\u001b[39;00m):\n\u001b[1;32m   1294\u001b[0m     \u001b[38;5;66;03m# e.g. astype_nansafe can fail on object-dtype of strings\u001b[39;00m\n\u001b[1;32m   1295\u001b[0m     \u001b[38;5;66;03m#  trying to convert to float\u001b[39;00m\n\u001b[1;32m   1296\u001b[0m     \u001b[38;5;28;01mif\u001b[39;00m errors \u001b[38;5;241m==\u001b[39m \u001b[38;5;124m\"\u001b[39m\u001b[38;5;124mignore\u001b[39m\u001b[38;5;124m\"\u001b[39m:\n",
      "File \u001b[0;32m/opt/anaconda3/lib/python3.9/site-packages/pandas/core/dtypes/cast.py:1237\u001b[0m, in \u001b[0;36mastype_array\u001b[0;34m(values, dtype, copy)\u001b[0m\n\u001b[1;32m   1234\u001b[0m     values \u001b[38;5;241m=\u001b[39m values\u001b[38;5;241m.\u001b[39mastype(dtype, copy\u001b[38;5;241m=\u001b[39mcopy)\n\u001b[1;32m   1236\u001b[0m \u001b[38;5;28;01melse\u001b[39;00m:\n\u001b[0;32m-> 1237\u001b[0m     values \u001b[38;5;241m=\u001b[39m \u001b[43mastype_nansafe\u001b[49m\u001b[43m(\u001b[49m\u001b[43mvalues\u001b[49m\u001b[43m,\u001b[49m\u001b[43m \u001b[49m\u001b[43mdtype\u001b[49m\u001b[43m,\u001b[49m\u001b[43m \u001b[49m\u001b[43mcopy\u001b[49m\u001b[38;5;241;43m=\u001b[39;49m\u001b[43mcopy\u001b[49m\u001b[43m)\u001b[49m\n\u001b[1;32m   1239\u001b[0m \u001b[38;5;66;03m# in pandas we don't store numpy str dtypes, so convert to object\u001b[39;00m\n\u001b[1;32m   1240\u001b[0m \u001b[38;5;28;01mif\u001b[39;00m \u001b[38;5;28misinstance\u001b[39m(dtype, np\u001b[38;5;241m.\u001b[39mdtype) \u001b[38;5;129;01mand\u001b[39;00m \u001b[38;5;28missubclass\u001b[39m(values\u001b[38;5;241m.\u001b[39mdtype\u001b[38;5;241m.\u001b[39mtype, \u001b[38;5;28mstr\u001b[39m):\n",
      "File \u001b[0;32m/opt/anaconda3/lib/python3.9/site-packages/pandas/core/dtypes/cast.py:1154\u001b[0m, in \u001b[0;36mastype_nansafe\u001b[0;34m(arr, dtype, copy, skipna)\u001b[0m\n\u001b[1;32m   1150\u001b[0m \u001b[38;5;28;01melif\u001b[39;00m is_object_dtype(arr\u001b[38;5;241m.\u001b[39mdtype):\n\u001b[1;32m   1151\u001b[0m \n\u001b[1;32m   1152\u001b[0m     \u001b[38;5;66;03m# work around NumPy brokenness, #1987\u001b[39;00m\n\u001b[1;32m   1153\u001b[0m     \u001b[38;5;28;01mif\u001b[39;00m np\u001b[38;5;241m.\u001b[39missubdtype(dtype\u001b[38;5;241m.\u001b[39mtype, np\u001b[38;5;241m.\u001b[39minteger):\n\u001b[0;32m-> 1154\u001b[0m         \u001b[38;5;28;01mreturn\u001b[39;00m \u001b[43mlib\u001b[49m\u001b[38;5;241;43m.\u001b[39;49m\u001b[43mastype_intsafe\u001b[49m\u001b[43m(\u001b[49m\u001b[43marr\u001b[49m\u001b[43m,\u001b[49m\u001b[43m \u001b[49m\u001b[43mdtype\u001b[49m\u001b[43m)\u001b[49m\n\u001b[1;32m   1156\u001b[0m     \u001b[38;5;66;03m# if we have a datetime/timedelta array of objects\u001b[39;00m\n\u001b[1;32m   1157\u001b[0m     \u001b[38;5;66;03m# then coerce to a proper dtype and recall astype_nansafe\u001b[39;00m\n\u001b[1;32m   1159\u001b[0m     \u001b[38;5;28;01melif\u001b[39;00m is_datetime64_dtype(dtype):\n",
      "File \u001b[0;32m/opt/anaconda3/lib/python3.9/site-packages/pandas/_libs/lib.pyx:668\u001b[0m, in \u001b[0;36mpandas._libs.lib.astype_intsafe\u001b[0;34m()\u001b[0m\n",
      "\u001b[0;31mValueError\u001b[0m: invalid literal for int() with base 10: 'OOS'"
     ]
    }
   ],
   "source": [
    "df_mental['Zip Code - 3 digits'] = df_mental['Zip Code - 3 digits'].astype(int)"
   ]
  },
  {
   "cell_type": "code",
   "execution_count": 61,
   "id": "07d7bc94",
   "metadata": {},
   "outputs": [
    {
     "ename": "TypeError",
     "evalue": "'>=' not supported between instances of 'str' and 'float'",
     "output_type": "error",
     "traceback": [
      "\u001b[0;31m---------------------------------------------------------------------------\u001b[0m",
      "\u001b[0;31mTypeError\u001b[0m                                 Traceback (most recent call last)",
      "Input \u001b[0;32mIn [61]\u001b[0m, in \u001b[0;36m<cell line: 1>\u001b[0;34m()\u001b[0m\n\u001b[0;32m----> 1\u001b[0m \u001b[43mdf\u001b[49m\u001b[43m[\u001b[49m\u001b[38;5;124;43m'\u001b[39;49m\u001b[38;5;124;43mZip Code - 3 digits\u001b[39;49m\u001b[38;5;124;43m'\u001b[39;49m\u001b[43m]\u001b[49m\u001b[38;5;241;43m.\u001b[39;49m\u001b[43mmax\u001b[49m\u001b[43m(\u001b[49m\u001b[43m)\u001b[49m\n",
      "File \u001b[0;32m/opt/anaconda3/lib/python3.9/site-packages/pandas/core/generic.py:11212\u001b[0m, in \u001b[0;36mNDFrame._add_numeric_operations.<locals>.max\u001b[0;34m(self, axis, skipna, level, numeric_only, **kwargs)\u001b[0m\n\u001b[1;32m  11192\u001b[0m \u001b[38;5;129m@doc\u001b[39m(  \u001b[38;5;66;03m# type: ignore[misc]\u001b[39;00m\n\u001b[1;32m  11193\u001b[0m     _num_doc,\n\u001b[1;32m  11194\u001b[0m     desc\u001b[38;5;241m=\u001b[39m\u001b[38;5;124m\"\u001b[39m\u001b[38;5;124mReturn the maximum of the values over the requested axis.\u001b[39m\u001b[38;5;130;01m\\n\u001b[39;00m\u001b[38;5;130;01m\\n\u001b[39;00m\u001b[38;5;124m\"\u001b[39m\n\u001b[0;32m   (...)\u001b[0m\n\u001b[1;32m  11210\u001b[0m     \u001b[38;5;241m*\u001b[39m\u001b[38;5;241m*\u001b[39mkwargs,\n\u001b[1;32m  11211\u001b[0m ):\n\u001b[0;32m> 11212\u001b[0m     \u001b[38;5;28;01mreturn\u001b[39;00m \u001b[43mNDFrame\u001b[49m\u001b[38;5;241;43m.\u001b[39;49m\u001b[43mmax\u001b[49m\u001b[43m(\u001b[49m\u001b[38;5;28;43mself\u001b[39;49m\u001b[43m,\u001b[49m\u001b[43m \u001b[49m\u001b[43maxis\u001b[49m\u001b[43m,\u001b[49m\u001b[43m \u001b[49m\u001b[43mskipna\u001b[49m\u001b[43m,\u001b[49m\u001b[43m \u001b[49m\u001b[43mlevel\u001b[49m\u001b[43m,\u001b[49m\u001b[43m \u001b[49m\u001b[43mnumeric_only\u001b[49m\u001b[43m,\u001b[49m\u001b[43m \u001b[49m\u001b[38;5;241;43m*\u001b[39;49m\u001b[38;5;241;43m*\u001b[39;49m\u001b[43mkwargs\u001b[49m\u001b[43m)\u001b[49m\n",
      "File \u001b[0;32m/opt/anaconda3/lib/python3.9/site-packages/pandas/core/generic.py:10669\u001b[0m, in \u001b[0;36mNDFrame.max\u001b[0;34m(self, axis, skipna, level, numeric_only, **kwargs)\u001b[0m\n\u001b[1;32m  10661\u001b[0m \u001b[38;5;28;01mdef\u001b[39;00m \u001b[38;5;21mmax\u001b[39m(\n\u001b[1;32m  10662\u001b[0m     \u001b[38;5;28mself\u001b[39m,\n\u001b[1;32m  10663\u001b[0m     axis: Axis \u001b[38;5;241m|\u001b[39m \u001b[38;5;28;01mNone\u001b[39;00m \u001b[38;5;241m|\u001b[39m lib\u001b[38;5;241m.\u001b[39mNoDefault \u001b[38;5;241m=\u001b[39m lib\u001b[38;5;241m.\u001b[39mno_default,\n\u001b[0;32m   (...)\u001b[0m\n\u001b[1;32m  10667\u001b[0m     \u001b[38;5;241m*\u001b[39m\u001b[38;5;241m*\u001b[39mkwargs,\n\u001b[1;32m  10668\u001b[0m ):\n\u001b[0;32m> 10669\u001b[0m     \u001b[38;5;28;01mreturn\u001b[39;00m \u001b[38;5;28;43mself\u001b[39;49m\u001b[38;5;241;43m.\u001b[39;49m\u001b[43m_stat_function\u001b[49m\u001b[43m(\u001b[49m\n\u001b[1;32m  10670\u001b[0m \u001b[43m        \u001b[49m\u001b[38;5;124;43m\"\u001b[39;49m\u001b[38;5;124;43mmax\u001b[39;49m\u001b[38;5;124;43m\"\u001b[39;49m\u001b[43m,\u001b[49m\n\u001b[1;32m  10671\u001b[0m \u001b[43m        \u001b[49m\u001b[43mnanops\u001b[49m\u001b[38;5;241;43m.\u001b[39;49m\u001b[43mnanmax\u001b[49m\u001b[43m,\u001b[49m\n\u001b[1;32m  10672\u001b[0m \u001b[43m        \u001b[49m\u001b[43maxis\u001b[49m\u001b[43m,\u001b[49m\n\u001b[1;32m  10673\u001b[0m \u001b[43m        \u001b[49m\u001b[43mskipna\u001b[49m\u001b[43m,\u001b[49m\n\u001b[1;32m  10674\u001b[0m \u001b[43m        \u001b[49m\u001b[43mlevel\u001b[49m\u001b[43m,\u001b[49m\n\u001b[1;32m  10675\u001b[0m \u001b[43m        \u001b[49m\u001b[43mnumeric_only\u001b[49m\u001b[43m,\u001b[49m\n\u001b[1;32m  10676\u001b[0m \u001b[43m        \u001b[49m\u001b[38;5;241;43m*\u001b[39;49m\u001b[38;5;241;43m*\u001b[39;49m\u001b[43mkwargs\u001b[49m\u001b[43m,\u001b[49m\n\u001b[1;32m  10677\u001b[0m \u001b[43m    \u001b[49m\u001b[43m)\u001b[49m\n",
      "File \u001b[0;32m/opt/anaconda3/lib/python3.9/site-packages/pandas/core/generic.py:10639\u001b[0m, in \u001b[0;36mNDFrame._stat_function\u001b[0;34m(self, name, func, axis, skipna, level, numeric_only, **kwargs)\u001b[0m\n\u001b[1;32m  10629\u001b[0m     warnings\u001b[38;5;241m.\u001b[39mwarn(\n\u001b[1;32m  10630\u001b[0m         \u001b[38;5;124m\"\u001b[39m\u001b[38;5;124mUsing the level keyword in DataFrame and Series aggregations is \u001b[39m\u001b[38;5;124m\"\u001b[39m\n\u001b[1;32m  10631\u001b[0m         \u001b[38;5;124m\"\u001b[39m\u001b[38;5;124mdeprecated and will be removed in a future version. Use groupby \u001b[39m\u001b[38;5;124m\"\u001b[39m\n\u001b[0;32m   (...)\u001b[0m\n\u001b[1;32m  10634\u001b[0m         stacklevel\u001b[38;5;241m=\u001b[39mfind_stack_level(),\n\u001b[1;32m  10635\u001b[0m     )\n\u001b[1;32m  10636\u001b[0m     \u001b[38;5;28;01mreturn\u001b[39;00m \u001b[38;5;28mself\u001b[39m\u001b[38;5;241m.\u001b[39m_agg_by_level(\n\u001b[1;32m  10637\u001b[0m         name, axis\u001b[38;5;241m=\u001b[39maxis, level\u001b[38;5;241m=\u001b[39mlevel, skipna\u001b[38;5;241m=\u001b[39mskipna, numeric_only\u001b[38;5;241m=\u001b[39mnumeric_only\n\u001b[1;32m  10638\u001b[0m     )\n\u001b[0;32m> 10639\u001b[0m \u001b[38;5;28;01mreturn\u001b[39;00m \u001b[38;5;28;43mself\u001b[39;49m\u001b[38;5;241;43m.\u001b[39;49m\u001b[43m_reduce\u001b[49m\u001b[43m(\u001b[49m\n\u001b[1;32m  10640\u001b[0m \u001b[43m    \u001b[49m\u001b[43mfunc\u001b[49m\u001b[43m,\u001b[49m\u001b[43m \u001b[49m\u001b[43mname\u001b[49m\u001b[38;5;241;43m=\u001b[39;49m\u001b[43mname\u001b[49m\u001b[43m,\u001b[49m\u001b[43m \u001b[49m\u001b[43maxis\u001b[49m\u001b[38;5;241;43m=\u001b[39;49m\u001b[43maxis\u001b[49m\u001b[43m,\u001b[49m\u001b[43m \u001b[49m\u001b[43mskipna\u001b[49m\u001b[38;5;241;43m=\u001b[39;49m\u001b[43mskipna\u001b[49m\u001b[43m,\u001b[49m\u001b[43m \u001b[49m\u001b[43mnumeric_only\u001b[49m\u001b[38;5;241;43m=\u001b[39;49m\u001b[43mnumeric_only\u001b[49m\n\u001b[1;32m  10641\u001b[0m \u001b[43m\u001b[49m\u001b[43m)\u001b[49m\n",
      "File \u001b[0;32m/opt/anaconda3/lib/python3.9/site-packages/pandas/core/series.py:4471\u001b[0m, in \u001b[0;36mSeries._reduce\u001b[0;34m(self, op, name, axis, skipna, numeric_only, filter_type, **kwds)\u001b[0m\n\u001b[1;32m   4467\u001b[0m     \u001b[38;5;28;01mraise\u001b[39;00m \u001b[38;5;167;01mNotImplementedError\u001b[39;00m(\n\u001b[1;32m   4468\u001b[0m         \u001b[38;5;124mf\u001b[39m\u001b[38;5;124m\"\u001b[39m\u001b[38;5;124mSeries.\u001b[39m\u001b[38;5;132;01m{\u001b[39;00mname\u001b[38;5;132;01m}\u001b[39;00m\u001b[38;5;124m does not implement \u001b[39m\u001b[38;5;132;01m{\u001b[39;00mkwd_name\u001b[38;5;132;01m}\u001b[39;00m\u001b[38;5;124m.\u001b[39m\u001b[38;5;124m\"\u001b[39m\n\u001b[1;32m   4469\u001b[0m     )\n\u001b[1;32m   4470\u001b[0m \u001b[38;5;28;01mwith\u001b[39;00m np\u001b[38;5;241m.\u001b[39merrstate(\u001b[38;5;28mall\u001b[39m\u001b[38;5;241m=\u001b[39m\u001b[38;5;124m\"\u001b[39m\u001b[38;5;124mignore\u001b[39m\u001b[38;5;124m\"\u001b[39m):\n\u001b[0;32m-> 4471\u001b[0m     \u001b[38;5;28;01mreturn\u001b[39;00m \u001b[43mop\u001b[49m\u001b[43m(\u001b[49m\u001b[43mdelegate\u001b[49m\u001b[43m,\u001b[49m\u001b[43m \u001b[49m\u001b[43mskipna\u001b[49m\u001b[38;5;241;43m=\u001b[39;49m\u001b[43mskipna\u001b[49m\u001b[43m,\u001b[49m\u001b[43m \u001b[49m\u001b[38;5;241;43m*\u001b[39;49m\u001b[38;5;241;43m*\u001b[39;49m\u001b[43mkwds\u001b[49m\u001b[43m)\u001b[49m\n",
      "File \u001b[0;32m/opt/anaconda3/lib/python3.9/site-packages/pandas/core/nanops.py:155\u001b[0m, in \u001b[0;36mbottleneck_switch.__call__.<locals>.f\u001b[0;34m(values, axis, skipna, **kwds)\u001b[0m\n\u001b[1;32m    153\u001b[0m         result \u001b[38;5;241m=\u001b[39m alt(values, axis\u001b[38;5;241m=\u001b[39maxis, skipna\u001b[38;5;241m=\u001b[39mskipna, \u001b[38;5;241m*\u001b[39m\u001b[38;5;241m*\u001b[39mkwds)\n\u001b[1;32m    154\u001b[0m \u001b[38;5;28;01melse\u001b[39;00m:\n\u001b[0;32m--> 155\u001b[0m     result \u001b[38;5;241m=\u001b[39m \u001b[43malt\u001b[49m\u001b[43m(\u001b[49m\u001b[43mvalues\u001b[49m\u001b[43m,\u001b[49m\u001b[43m \u001b[49m\u001b[43maxis\u001b[49m\u001b[38;5;241;43m=\u001b[39;49m\u001b[43maxis\u001b[49m\u001b[43m,\u001b[49m\u001b[43m \u001b[49m\u001b[43mskipna\u001b[49m\u001b[38;5;241;43m=\u001b[39;49m\u001b[43mskipna\u001b[49m\u001b[43m,\u001b[49m\u001b[43m \u001b[49m\u001b[38;5;241;43m*\u001b[39;49m\u001b[38;5;241;43m*\u001b[39;49m\u001b[43mkwds\u001b[49m\u001b[43m)\u001b[49m\n\u001b[1;32m    157\u001b[0m \u001b[38;5;28;01mreturn\u001b[39;00m result\n",
      "File \u001b[0;32m/opt/anaconda3/lib/python3.9/site-packages/pandas/core/nanops.py:410\u001b[0m, in \u001b[0;36m_datetimelike_compat.<locals>.new_func\u001b[0;34m(values, axis, skipna, mask, **kwargs)\u001b[0m\n\u001b[1;32m    407\u001b[0m \u001b[38;5;28;01mif\u001b[39;00m datetimelike \u001b[38;5;129;01mand\u001b[39;00m mask \u001b[38;5;129;01mis\u001b[39;00m \u001b[38;5;28;01mNone\u001b[39;00m:\n\u001b[1;32m    408\u001b[0m     mask \u001b[38;5;241m=\u001b[39m isna(values)\n\u001b[0;32m--> 410\u001b[0m result \u001b[38;5;241m=\u001b[39m \u001b[43mfunc\u001b[49m\u001b[43m(\u001b[49m\u001b[43mvalues\u001b[49m\u001b[43m,\u001b[49m\u001b[43m \u001b[49m\u001b[43maxis\u001b[49m\u001b[38;5;241;43m=\u001b[39;49m\u001b[43maxis\u001b[49m\u001b[43m,\u001b[49m\u001b[43m \u001b[49m\u001b[43mskipna\u001b[49m\u001b[38;5;241;43m=\u001b[39;49m\u001b[43mskipna\u001b[49m\u001b[43m,\u001b[49m\u001b[43m \u001b[49m\u001b[43mmask\u001b[49m\u001b[38;5;241;43m=\u001b[39;49m\u001b[43mmask\u001b[49m\u001b[43m,\u001b[49m\u001b[43m \u001b[49m\u001b[38;5;241;43m*\u001b[39;49m\u001b[38;5;241;43m*\u001b[39;49m\u001b[43mkwargs\u001b[49m\u001b[43m)\u001b[49m\n\u001b[1;32m    412\u001b[0m \u001b[38;5;28;01mif\u001b[39;00m datetimelike:\n\u001b[1;32m    413\u001b[0m     result \u001b[38;5;241m=\u001b[39m _wrap_results(result, orig_values\u001b[38;5;241m.\u001b[39mdtype, fill_value\u001b[38;5;241m=\u001b[39miNaT)\n",
      "File \u001b[0;32m/opt/anaconda3/lib/python3.9/site-packages/pandas/core/nanops.py:1043\u001b[0m, in \u001b[0;36m_nanminmax.<locals>.reduction\u001b[0;34m(values, axis, skipna, mask)\u001b[0m\n\u001b[1;32m   1041\u001b[0m         result \u001b[38;5;241m=\u001b[39m np\u001b[38;5;241m.\u001b[39mnan\n\u001b[1;32m   1042\u001b[0m \u001b[38;5;28;01melse\u001b[39;00m:\n\u001b[0;32m-> 1043\u001b[0m     result \u001b[38;5;241m=\u001b[39m \u001b[38;5;28;43mgetattr\u001b[39;49m\u001b[43m(\u001b[49m\u001b[43mvalues\u001b[49m\u001b[43m,\u001b[49m\u001b[43m \u001b[49m\u001b[43mmeth\u001b[49m\u001b[43m)\u001b[49m\u001b[43m(\u001b[49m\u001b[43maxis\u001b[49m\u001b[43m)\u001b[49m\n\u001b[1;32m   1045\u001b[0m result \u001b[38;5;241m=\u001b[39m _maybe_null_out(result, axis, mask, values\u001b[38;5;241m.\u001b[39mshape)\n\u001b[1;32m   1046\u001b[0m \u001b[38;5;28;01mreturn\u001b[39;00m result\n",
      "File \u001b[0;32m/opt/anaconda3/lib/python3.9/site-packages/numpy/core/_methods.py:40\u001b[0m, in \u001b[0;36m_amax\u001b[0;34m(a, axis, out, keepdims, initial, where)\u001b[0m\n\u001b[1;32m     38\u001b[0m \u001b[38;5;28;01mdef\u001b[39;00m \u001b[38;5;21m_amax\u001b[39m(a, axis\u001b[38;5;241m=\u001b[39m\u001b[38;5;28;01mNone\u001b[39;00m, out\u001b[38;5;241m=\u001b[39m\u001b[38;5;28;01mNone\u001b[39;00m, keepdims\u001b[38;5;241m=\u001b[39m\u001b[38;5;28;01mFalse\u001b[39;00m,\n\u001b[1;32m     39\u001b[0m           initial\u001b[38;5;241m=\u001b[39m_NoValue, where\u001b[38;5;241m=\u001b[39m\u001b[38;5;28;01mTrue\u001b[39;00m):\n\u001b[0;32m---> 40\u001b[0m     \u001b[38;5;28;01mreturn\u001b[39;00m \u001b[43mumr_maximum\u001b[49m\u001b[43m(\u001b[49m\u001b[43ma\u001b[49m\u001b[43m,\u001b[49m\u001b[43m \u001b[49m\u001b[43maxis\u001b[49m\u001b[43m,\u001b[49m\u001b[43m \u001b[49m\u001b[38;5;28;43;01mNone\u001b[39;49;00m\u001b[43m,\u001b[49m\u001b[43m \u001b[49m\u001b[43mout\u001b[49m\u001b[43m,\u001b[49m\u001b[43m \u001b[49m\u001b[43mkeepdims\u001b[49m\u001b[43m,\u001b[49m\u001b[43m \u001b[49m\u001b[43minitial\u001b[49m\u001b[43m,\u001b[49m\u001b[43m \u001b[49m\u001b[43mwhere\u001b[49m\u001b[43m)\u001b[49m\n",
      "\u001b[0;31mTypeError\u001b[0m: '>=' not supported between instances of 'str' and 'float'"
     ]
    }
   ],
   "source": [
    "df['Zip Code - 3 digits'].max()"
   ]
  },
  {
   "cell_type": "code",
   "execution_count": 58,
   "id": "347cc2f5",
   "metadata": {},
   "outputs": [
    {
     "data": {
      "text/plain": [
       "array(['White', 'Black/African American', 'Other Race', 'Multi-racial'],\n",
       "      dtype=object)"
      ]
     },
     "execution_count": 58,
     "metadata": {},
     "output_type": "execute_result"
    }
   ],
   "source": [
    "df_mental['Race'].unique()"
   ]
  },
  {
   "cell_type": "code",
   "execution_count": 59,
   "id": "3dc1b3c1",
   "metadata": {},
   "outputs": [
    {
     "data": {
      "text/plain": [
       "array(['Columbia', 'Manhattan', 'Kings', 'Erie', 'Westchester', 'Ontario',\n",
       "       'Queens', 'Dutchess', 'Richmond', 'Bronx', 'Nassau', 'Suffolk',\n",
       "       'Montgomery', 'Ulster', 'Onondaga', 'Monroe', 'Schenectady', nan,\n",
       "       'Orange', 'Oneida', 'Chautauqua', 'Rockland', 'Wyoming', 'Broome',\n",
       "       'Warren', 'Wayne', 'Albany', 'Tompkins', 'Cayuga', 'Cortland',\n",
       "       'Putnam', 'Franklin', 'Rensselaer', 'Saratoga', 'Steuben',\n",
       "       'Niagara', 'St Lawrence', 'Chemung', 'Otsego', 'Sullivan',\n",
       "       'Jefferson', 'Cattaraugus', 'Genesee', 'Fulton', 'Madison',\n",
       "       'Delaware', 'Chenango', 'Oswego', 'Clinton', 'Livingston', 'Yates',\n",
       "       'Lewis', 'Allegany', 'Essex', 'Schoharie', 'Orleans', 'Herkimer',\n",
       "       'Schuyler'], dtype=object)"
      ]
     },
     "execution_count": 59,
     "metadata": {},
     "output_type": "execute_result"
    }
   ],
   "source": [
    "df_mental['Hospital County'].unique()"
   ]
  },
  {
   "cell_type": "code",
   "execution_count": 60,
   "id": "9562e118",
   "metadata": {},
   "outputs": [
    {
     "data": {
      "text/plain": [
       "58"
      ]
     },
     "execution_count": 60,
     "metadata": {},
     "output_type": "execute_result"
    }
   ],
   "source": [
    "len(df_mental['Hospital County'].unique())"
   ]
  },
  {
   "cell_type": "code",
   "execution_count": 39,
   "id": "6ec37e48",
   "metadata": {},
   "outputs": [
    {
     "data": {
      "text/plain": [
       "dtype('int64')"
      ]
     },
     "execution_count": 39,
     "metadata": {},
     "output_type": "execute_result"
    }
   ],
   "source": [
    "df_mental['Discharge Year'].dtype"
   ]
  },
  {
   "cell_type": "code",
   "execution_count": 44,
   "id": "ffdbd6ba",
   "metadata": {},
   "outputs": [],
   "source": [
    "df_mental_year = df_mental[['Discharge Year','Operating Certificate Number']].groupby(by=['Discharge Year']).count()\n",
    "df_year = df[['Discharge Year','Operating Certificate Number']].groupby(by=['Discharge Year']).count()"
   ]
  },
  {
   "cell_type": "code",
   "execution_count": 48,
   "id": "35f556ce",
   "metadata": {},
   "outputs": [
    {
     "data": {
      "image/png": "[encoded data removed]",
      "text/plain": [
       "<Figure size 720x504 with 1 Axes>"
      ]
     },
     "metadata": {
      "needs_background": "light"
     },
     "output_type": "display_data"
    }
   ],
   "source": [
    "fig = plt.figure(figsize=(10,7))\n",
    "plt.plot(df_mental_year.index, df_mental_year['Operating Certificate Number'], label=\"mental issues\")\n",
    "# plt.plot(df_year.index, df_year['Operating Certificate Number'], label=\"all\")\n",
    "plt.xlabel(\"year\")\n",
    "plt.ylabel(\"count\")\n",
    "plt.title(\"Change in the number of visits for psychological-related problems over time\")\n",
    "plt.legend()\n",
    "plt.show()"
   ]
  },
  {
   "cell_type": "code",
   "execution_count": 53,
   "id": "1b96871b",
   "metadata": {},
   "outputs": [
    {
     "data": {
      "image/png": "[encoded data removed]",
      "text/plain": [
       "<Figure size 720x504 with 1 Axes>"
      ]
     },
     "metadata": {
      "needs_background": "light"
     },
     "output_type": "display_data"
    }
   ],
   "source": [
    "fig = plt.figure(figsize=(10,7))\n",
    "#plt.plot(df_mental_year.index, df_mental_year['Operating Certificate Number'], label=\"mental issues\")\n",
    "plt.plot(df_year.index, df_year['Operating Certificate Number'], label=\"all\", c = 'orange')\n",
    "plt.xlabel(\"year\")\n",
    "plt.ylabel(\"count\")\n",
    "plt.title(\"Change in the number of all hospital visits over time\")\n",
    "plt.legend()\n",
    "plt.show()"
   ]
  },
  {
   "cell_type": "code",
   "execution_count": 54,
   "id": "7b89f9a3",
   "metadata": {},
   "outputs": [
    {
     "data": {
      "image/png": "[encoded data removed]",
      "text/plain": [
       "<Figure size 720x504 with 1 Axes>"
      ]
     },
     "metadata": {
      "needs_background": "light"
     },
     "output_type": "display_data"
    }
   ],
   "source": [
    "fig = plt.figure(figsize=(10,7))\n",
    "plt.plot(df_mental_year.index, df_mental_year['Operating Certificate Number'], label=\"mental issues\")\n",
    "plt.plot(df_year.index, df_year['Operating Certificate Number'], label=\"all\", c = 'orange')\n",
    "plt.xlabel(\"year\")\n",
    "plt.ylabel(\"count\")\n",
    "plt.title(\"Change in the number of all hospital visits over time\")\n",
    "plt.legend()\n",
    "plt.show()"
   ]
  },
  {
   "cell_type": "code",
   "execution_count": 42,
   "id": "eb6ff26b",
   "metadata": {},
   "outputs": [
    {
     "data": {
      "text/plain": [
       "<AxesSubplot:xlabel='Discharge Year'>"
      ]
     },
     "execution_count": 42,
     "metadata": {},
     "output_type": "execute_result"
    },
    {
     "data": {
      "image/png": "[encoded data removed]",
      "text/plain": [
       "<Figure size 432x288 with 1 Axes>"
      ]
     },
     "metadata": {
      "needs_background": "light"
     },
     "output_type": "display_data"
    }
   ],
   "source": [
    "df[['Discharge Year','Operating Certificate Number']].groupby(by=['Discharge Year']).count().plot.bar()"
   ]
  },
  {
   "cell_type": "code",
   "execution_count": null,
   "id": "ed2b7b04",
   "metadata": {},
   "outputs": [],
   "source": []
  }
 ],
 "metadata": {
  "kernelspec": {
   "display_name": "Python 3 (ipykernel)",
   "language": "python",
   "name": "python3"
  },
  "language_info": {
   "codemirror_mode": {
    "name": "ipython",
    "version": 3
   },
   "file_extension": ".py",
   "mimetype": "text/x-python",
   "name": "python",
   "nbconvert_exporter": "python",
   "pygments_lexer": "ipython3",
   "version": "3.9.12"
  }
 },
 "nbformat": 4,
 "nbformat_minor": 5
}
